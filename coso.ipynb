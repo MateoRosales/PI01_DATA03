{
 "cells": [
  {
   "cell_type": "markdown",
   "metadata": {},
   "source": [
    "Proyecto Individual 1"
   ]
  },
  {
   "cell_type": "code",
   "execution_count": null,
   "metadata": {},
   "outputs": [],
   "source": [
    "#Importacion de librerias\n",
    "\n",
    "import json\n",
    "import pandas as pd"
   ]
  },
  {
   "cell_type": "code",
   "execution_count": 39,
   "metadata": {},
   "outputs": [],
   "source": [
    "#Ingesta de los datos\n",
    "\n",
    "constructores_df= pd.read_json('PI01_DATA03/Datasets/constructors.json', lines=True)\n",
    "pilotos_df= pd.read_json('PI01_DATA03/Datasets/drivers.json', lines=True)\n",
    "paradas_df= pd.read_json('PI01_DATA03/Datasets/pit_stops.json')\n",
    "resultados_df= pd.read_json('PI01_DATA03/Datasets/results.json', lines=True)\n",
    "circuitos_df = pd.read_csv('PI01_DATA03/Datasets/circuits.csv',sep=',', decimal='.')\n",
    "carreras_df = pd.read_csv('PI01_DATA03/Datasets/races.csv',sep=',', decimal='.')\n",
    "\n",
    "clasif1_df= pd.read_json('PI01_DATA03/Datasets/Qualifying/qualifying_split_1.json')\n",
    "clasif2_df= pd.read_json('PI01_DATA03/Datasets/Qualifying/qualifying_split_2.json')\n",
    "clasif_df = pd.concat([clasif1_df, clasif2_df])\n",
    "clasif_df.index = range(clasif_df.shape[0])\n",
    "\n",
    "vueltas1_df = pd.read_csv('PI01_DATA03/Datasets/lap_times/lap_times_split_1.csv', header=None,sep=',', decimal='.')\n",
    "vueltas2_df = pd.read_csv('PI01_DATA03/Datasets/lap_times/lap_times_split_2.csv', header=None,sep=',', decimal='.')\n",
    "vueltas3_df = pd.read_csv('PI01_DATA03/Datasets/lap_times/lap_times_split_3.csv', header=None,sep=',', decimal='.')\n",
    "vueltas4_df = pd.read_csv('PI01_DATA03/Datasets/lap_times/lap_times_split_4.csv', header=None,sep=',', decimal='.')\n",
    "vueltas5_df = pd.read_csv('PI01_DATA03/Datasets/lap_times/lap_times_split_5.csv', header=None,sep=',', decimal='.')\n",
    "vueltas_df = pd.concat([vueltas1_df, vueltas2_df,vueltas3_df,vueltas4_df,vueltas5_df])\n",
    "vueltas_df.index = range(vueltas_df.shape[0])\n"
   ]
  },
  {
   "cell_type": "code",
   "execution_count": null,
   "metadata": {},
   "outputs": [],
   "source": [
    "# Nombres de columnas\n",
    "\n",
    "constructores_df.columns=['IdConstructor', 'Referencia', 'Nombre', 'Nacionalidad', 'URL']\n",
    "pilotos_df.columns=['IdPiloto', 'Referencia', 'Numero', 'Codigo','Nombre','Nacimiento','Nacionalidad', 'URL']\n",
    "paradas_df.columns=['IdCarrera', 'IdPiloto', 'Parada', 'Vuelta','Tiempo','Duracion','Milisegundos']\n",
    "resultados_df.columns=['IdResultado','IdCarrera','IdPiloto', 'IdConstructor', 'Numero','Parrilla','Posicion','PosicionTexto','PosicionOrden',\n",
    "                        'Puntos','Vueltas','Tiempo','Milisegundos','VueltaRapida','Ranking','TiempoVueltaRapida','VelocidadVueltaRapida','IdEstado']\n",
    "clasif_df.columns=['IdClasificacion','IdCarrera','IdPiloto', 'IdConstructor','Numero','Posicion','Sesion1','Sesion2','Sesion3',]\n",
    "vueltas_df.columns=['IdCarrera','IdPiloto', 'Vuelta','Posicion','Tiempo','Milisegundos']\n",
    "circuitos_df.columns=['IdCircuito','Referencia', 'Nombre','Localidad','Pais','Latitud','Longitud','Altitud','URL']\n",
    "carreras_df.columns=['IdCarrera','Año','Ronda','IdCircuito','Nombre','Fecha','Hora','URL']\n"
   ]
  },
  {
   "cell_type": "code",
   "execution_count": null,
   "metadata": {},
   "outputs": [],
   "source": [
    "#ETL Tabla pilotos\n",
    "\n",
    "a=pilotos_df\n",
    "a.info()\n",
    "print('\\nDuplicados:', sum(a.duplicated()))\n",
    "\n",
    "b=pilotos_df['Nombre']\n",
    "df2 = pd.json_normalize(b)\n",
    "del pilotos_df['Nombre']\n",
    "pilotos_df.insert(loc = 4, \n",
    "          column = 'Apellido', \n",
    "          value = df2['surname'])\n",
    "pilotos_df.insert(loc = 4, \n",
    "          column = 'Nombre', \n",
    "          value = df2['forename'])"
   ]
  },
  {
   "cell_type": "code",
   "execution_count": 142,
   "metadata": {},
   "outputs": [],
   "source": [
    "#Exportacion a csv\n",
    "\n",
    "constructores_df.to_csv('constructores.csv', sep=';', index=False)\n",
    "pilotos_df.to_csv('pilotos.csv', sep=';', index=False)\n",
    "paradas_df.to_csv('paradas.csv', sep=',', index=False)\n",
    "resultados_df.to_csv('resultados.csv', sep=',', index=False)\n",
    "clasif_df.to_csv('clasificacion.csv', sep=',', index=False)\n",
    "vueltas_df.to_csv('vueltas.csv', sep=',', index=False)\n",
    "carreras_df.to_csv('carreras.csv', sep=';', index=False)\n",
    "circuitos_df.to_csv('circuitos.csv', sep=';', index=False)"
   ]
  }
 ],
 "metadata": {
  "kernelspec": {
   "display_name": "Python 3.10.4 64-bit",
   "language": "python",
   "name": "python3"
  },
  "language_info": {
   "codemirror_mode": {
    "name": "ipython",
    "version": 3
   },
   "file_extension": ".py",
   "mimetype": "text/x-python",
   "name": "python",
   "nbconvert_exporter": "python",
   "pygments_lexer": "ipython3",
   "version": "3.10.4"
  },
  "orig_nbformat": 4,
  "vscode": {
   "interpreter": {
    "hash": "24e93649fb0c0388631dc89c8e1841cd37635e7139e19fac18c1d16e4231ac17"
   }
  }
 },
 "nbformat": 4,
 "nbformat_minor": 2
}
